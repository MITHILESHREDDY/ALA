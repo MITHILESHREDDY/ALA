{
 "cells": [
  {
   "cell_type": "code",
   "execution_count": 2,
   "metadata": {},
   "outputs": [],
   "source": [
    "import math\n",
    "import numpy as np\n",
    "import pandas as pd"
   ]
  },
  {
   "cell_type": "code",
   "execution_count": 3,
   "metadata": {},
   "outputs": [
    {
     "name": "stdout",
     "output_type": "stream",
     "text": [
      "   HR   BP  Temp\n",
      "0  76  126  38.0\n",
      "1  74  120  38.0\n",
      "2  72  118  37.5\n",
      "3  78  136  37.0\n"
     ]
    }
   ],
   "source": [
    "# Create a dataframe and making it numpy array\n",
    "df_patient = pd.DataFrame({'HR' : [76, 74, 72, 78],\n",
    "                           'BP' : [126, 120, 118, 136],\n",
    "                           'Temp': [38, 38, 37.5, 37]})\n",
    "\n",
    "print(df_patient)\n",
    "X = np.array(df_patient)"
   ]
  },
  {
   "cell_type": "code",
   "execution_count": 4,
   "metadata": {},
   "outputs": [
    {
     "name": "stdout",
     "output_type": "stream",
     "text": [
      "[[ 0.          6.32455532  8.95823643 10.24695077]\n",
      " [ 6.32455532  0.          2.87228132 16.52271164]\n",
      " [ 8.95823643  2.87228132  0.         18.9802529 ]\n",
      " [10.24695077 16.52271164 18.9802529   0.        ]]\n"
     ]
    }
   ],
   "source": [
    "# Calculating the distance between all patients\n",
    "# storing in a matrix format where each row/column represents the distance from a corresponding index patient in the above dataframe to all other patients\n",
    "size = X.shape[0]\n",
    "distance = [[0] * (size) for _ in range(size)]\n",
    "for i in range (0,size):\n",
    "    for j in range (i+1,size):\n",
    "        distance[i][j]=distance[j][i]=(math.dist(X[i],X[j]))\n",
    "distance = np.array(distance)\n",
    "print(distance)"
   ]
  },
  {
   "cell_type": "code",
   "execution_count": 5,
   "metadata": {},
   "outputs": [
    {
     "name": "stdout",
     "output_type": "stream",
     "text": [
      "The farthest patient from the rest is patient-4\n"
     ]
    }
   ],
   "source": [
    "# To find the farthest patient from the rest\n",
    "# Calculating the average of all distances corresponding to a particular patient from the above array and compare\n",
    "# Higher the average, farther the patient from the rest\n",
    "far = 0\n",
    "for i in range (1,size):\n",
    "    if np.mean(distance[i,:]) > np.mean(distance[i-1,:]):\n",
    "        far = i\n",
    "print(f'The farthest patient from the rest is patient-{far+1}')"
   ]
  },
  {
   "cell_type": "code",
   "execution_count": 6,
   "metadata": {},
   "outputs": [
    {
     "name": "stdout",
     "output_type": "stream",
     "text": [
      "Nearest patients are patient-3 and patient-2\n"
     ]
    }
   ],
   "source": [
    "# To find two nearest patients\n",
    "# Lesser the distance between two patients => nearer\n",
    "r1=r2=0\n",
    "for i in range (1,size):\n",
    "    for j in range (1,size):\n",
    "        if i==j:\n",
    "            pass\n",
    "        elif distance[i-1][j-1] > distance[i][j]:\n",
    "            r1=i\n",
    "            r2=j\n",
    "print(f'Nearest patients are patient-{r1+1} and patient-{r2+1}')"
   ]
  },
  {
   "cell_type": "code",
   "execution_count": 7,
   "metadata": {},
   "outputs": [
    {
     "name": "stdout",
     "output_type": "stream",
     "text": [
      "Two closest patient is patient-2\n"
     ]
    }
   ],
   "source": [
    "# Initialize a dummy patient and compare the distance between dummy patient and every other patient \n",
    "# Dummy patient is nearer to the patient having least distance to it\n",
    "Y = [73,120,38]\n",
    "dummy = 0\n",
    "for i in range (1,size):\n",
    "    if math.dist(Y,X[i-1]) > math.dist(Y,X[i]) :\n",
    "        dummy = i\n",
    "print(f'Two closest patient is patient-{dummy+1}')"
   ]
  },
  {
   "cell_type": "markdown",
   "metadata": {},
   "source": [
    "<b>Time Complexity</b>\n",
    "\n",
    "->The time complexity for finding farthest patient from the rest is O(n^2). \n",
    "  Because, we are using nested for loops to calculate the distance between all the patients. \n",
    "  As the values in the dataframe increases by n, the number of steps to perform are going to increase by n*n.\n",
    "\n",
    "->Similarly, the time complexity for finding two nearest patients is also O(n^2). \n",
    "  Because, we are using nested for loops to calculate the distance between all the patients. \n",
    "  As the values in the dataframe increases by n, the number of steps to perform are going to increase by n*n.\n",
    "\n",
    "->The time complexity for finding the closest patient to dummy patient is O(n).\n",
    "  Because, we are just comparing the distance to each patient from dummy patient. \n",
    "  As the values in the dataframe increases by n, the number of steps to perform are going to increase by n.\n",
    "\n"
   ]
  },
  {
   "cell_type": "markdown",
   "metadata": {},
   "source": [
    "<b>Practical Usage</b>\n",
    "\n",
    "Practical use of such a simple technique when about 100s of features are available and thousands of patient data is available\n",
    "\n",
    "If we find two nearest patients, we can give almost similar treatment to both of them. In case if doctor is not available, the subordinates can take precautionary measures in the mean time by looking into the data of nearest patient and treat him."
   ]
  }
 ],
 "metadata": {
  "kernelspec": {
   "display_name": "base",
   "language": "python",
   "name": "python3"
  },
  "language_info": {
   "codemirror_mode": {
    "name": "ipython",
    "version": 3
   },
   "file_extension": ".py",
   "mimetype": "text/x-python",
   "name": "python",
   "nbconvert_exporter": "python",
   "pygments_lexer": "ipython3",
   "version": "3.11.3"
  },
  "orig_nbformat": 4
 },
 "nbformat": 4,
 "nbformat_minor": 2
}
